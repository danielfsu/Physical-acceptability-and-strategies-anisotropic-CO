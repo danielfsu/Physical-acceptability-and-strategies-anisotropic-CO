{
 "cells": [
  {
   "cell_type": "markdown",
   "id": "0e2fe5d1",
   "metadata": {},
   "source": [
    "# Anisotropía en objetos compactos\n",
    "\n",
    "## Resolver ecuaciones de campo de Einstein para un objeto estático, simétricamente esférico y anisótropo\n",
    "\n",
    "### Conociendo $\\Delta = P_{\\perp} - P$ y $\\rho = \\rho(r)$."
   ]
  },
  {
   "cell_type": "code",
   "execution_count": 1,
   "id": "351ec315",
   "metadata": {},
   "outputs": [],
   "source": [
    "import numpy as np\n",
    "import matplotlib.pyplot as plt\n",
    "from scipy import integrate\n",
    "from scipy.integrate import solve_ivp"
   ]
  },
  {
   "cell_type": "code",
   "execution_count": 2,
   "id": "c49e9a88",
   "metadata": {},
   "outputs": [],
   "source": [
    "plt.rcParams.update({'text.latex.preamble' : r'\\usepackage{amssymb}'})\n",
    "plt.rcParams.update({'text.usetex': True,'font.serif': 'sans-serif'})\n",
    "plt.rcParams['xtick.labelsize'] = 9\n",
    "plt.rcParams['ytick.labelsize'] = 9\n",
    "plt.rcParams['axes.spines.top'] = False\n",
    "plt.rcParams['axes.spines.right'] = False\n",
    "plt.rcParams['figure.dpi'] = 150\n",
    "plt.rcParams['axes.titley'] = 1.0\n",
    "plt.rcParams['axes.titlesize'] = 12\n",
    "plt.rcParams['axes.labelsize'] = 10\n",
    "plt.rcParams[\"savefig.dpi\"] = 150\n",
    "plt.rcParams[\"savefig.bbox\"] = 'tight'"
   ]
  },
  {
   "cell_type": "code",
   "execution_count": 3,
   "id": "a7d506e3",
   "metadata": {},
   "outputs": [],
   "source": [
    "c = 2.997*10**(8)          # Velocidad de la luz en unidades S.I.\n",
    "G = 6.673*10**(-11)        # Constante de gravitación universal en unidades S.I.\n",
    "Msol = 1.989*10**(30)      # 1 Masa solar en kilogramos"
   ]
  },
  {
   "cell_type": "markdown",
   "id": "aba5e9a1",
   "metadata": {},
   "source": [
    "## Ecuaciones de estructura: \n",
    "\n",
    "\\begin{align}\n",
    "    \\frac{\\mathrm{d}P}{\\mathrm{d}r} &= -\\frac{G m\\rho}{r^{2}} \\left(1 + \\frac{P}{\\rho c^{2}}\\right)\\left(1 + \\frac{4\\pi r^{3}P}{m c^{2}}\\right)\\left(1 - \\frac{2Gm}{rc^{2}}\\right)^{-1} + \\frac{2\\left(P_{\\perp}-P\\right)}{r} \\\\\n",
    "    &= -G\\frac{\\left[\\rho + \\left(P/c^{2}\\right)\\right]\\left[m + \\left(4\\pi r^{3}P/c^{2}\\right)\\right]}{r\\left[r - \\left(2mG/c^{2}\\right)\\right]} + \\frac{2\\left(P_{\\perp}-P\\right)}{r} \\qquad \\text{y} \\\\\n",
    "    \\frac{\\mathrm{d}m}{\\mathrm{d}r} &= 4\\pi r^{2}\\rho\\,.\n",
    "\\end{align}\n",
    "\n",
    "### En sistema de unidades geométricas ($c=G=1$) se tiene\n",
    "\n",
    "\\begin{align}\n",
    "    \\frac{\\mathrm{d}P}{\\mathrm{d}r} &= -\\frac{m\\rho}{r^{2}} \\left(1 + \\frac{P}{\\rho}\\right)\\left(1 + \\frac{4\\pi r^{3}P}{m}\\right)\\left(1 - \\frac{2m}{r}\\right)^{-1} + \\frac{2\\left(P_{\\perp}-P\\right)}{r} \\\\\n",
    "    &= -\\frac{\\left(\\rho + P\\right)\\left(m + 4\\pi r^{3}P\\right)}{r\\left(r - 2m\\right)} + \\frac{2\\left(P_{\\perp}-P\\right)}{r} \\qquad \\text{y} \\\\\n",
    "    \\frac{\\mathrm{d}m}{\\mathrm{d}r} &= 4\\pi r^{2}\\rho\\,.\n",
    "\\end{align}"
   ]
  },
  {
   "cell_type": "markdown",
   "id": "aa748fe6",
   "metadata": {},
   "source": [
    "Se adimensionaliza las ecuaciones de estructura proponiendo:\n",
    "\n",
    "\\begin{align*}\n",
    "    m = R\\tilde{m}\\,, \\quad P = \\frac{1}{R^{2}}\\tilde{P}\\,, \\quad P_{\\perp} = \\frac{1}{R^{2}}\\tilde{P}_{\\perp}\\,, \\quad \\rho = \\frac{1}{R^{2}}\\tilde{\\rho}\\,, \\quad r = R x\\,.\n",
    "\\end{align*}\n"
   ]
  },
  {
   "cell_type": "markdown",
   "id": "e45c8bbf",
   "metadata": {},
   "source": [
    "Por lo tanto, las ecuaciones ahora son\n",
    "\n",
    "\\begin{align*}\n",
    "    \\frac{\\mathrm{d}\\tilde{P}}{\\mathrm{d}x} &= -\\frac{\\left(\\tilde{\\rho} + \\tilde{P}\\right)\\left(\\tilde{m} + 4\\pi\\tilde{P}x^{3}\\right)}{x\\left(x-2\\tilde{m}\\right)} + \\frac{2\\left(\\tilde{P}_{\\perp} - \\tilde{P}\\right)}{x}  \\qquad \\text{y} \\\\\n",
    "    \\frac{\\mathrm{d}\\tilde{m}}{\\mathrm{d}x} &= 4\\pi\\tilde{\\rho}x^{2} \\,.\n",
    "\\end{align*}"
   ]
  },
  {
   "cell_type": "markdown",
   "id": "819337c9",
   "metadata": {},
   "source": [
    "Por otra parte, la anisotropía (Raposo) es\n",
    "\\begin{align}\n",
    "    P_{\\perp} - P &= -\\mathcal{C}f\\left(\\rho\\right)k^{\\mu}\\nabla_{\\mu}P \\\\\n",
    "    &= -\\mathcal{C}f\\left(\\rho\\right)\\sqrt{1 - \\frac{2m}{r}}\\frac{\\mathrm{d}P}{\\mathrm{d}r} = \\Delta \\,,\n",
    "\\end{align}\n",
    "donde $f\\left(\\rho\\right)$ es una función genérica de la densidad de energía y $k^{\\mu} = \\left(0,k^{1},0,0\\right)$. Adimensionalizando se tiene\n",
    "\\begin{equation}\n",
    "    \\tilde{\\Delta} = -\\mathcal{C}f\\left(\\tilde{\\rho}\\right)\\sqrt{1 - \\frac{2\\tilde{m}}{x}}\\frac{\\mathrm{d}\\tilde{P}}{\\mathrm{d}x}\\,.\n",
    "\\end{equation}"
   ]
  },
  {
   "cell_type": "markdown",
   "id": "30aec11e",
   "metadata": {},
   "source": [
    "Ahora, introducimos el perfil de densidad\n",
    "\\begin{align*}\n",
    "    \\tilde{\\rho} = \\tilde{\\rho}_{c}\\left(1-\\alpha x^{2}\\right)\\,,\n",
    "\\end{align*}\n",
    "por lo que la masa es\n",
    "\\begin{align*}\n",
    "    \\tilde{m} = 4\\pi\\tilde{\\rho}_{c}\\left(\\frac{x^{3}}{3} - \\alpha\\frac{x^{5}}{5}\\right)\n",
    "\\end{align*}\n",
    "y puede ser reemplazada en la ecuación de equilibrio hidrostático."
   ]
  },
  {
   "cell_type": "code",
   "execution_count": 4,
   "id": "2b301e87",
   "metadata": {},
   "outputs": [],
   "source": [
    "# Ecuación de equilibrio hidrostático a resolver\n",
    "def EcEqHid(x,P_,rho_c_til,varkappa,C):\n",
    "    return -(rho_tilde(x,rho_c_til,varkappa) + P_)*(m_tilde(x,rho_c_til,varkappa) + 4*np.pi*x**(3)*P_)/x/(x - 2*m_tilde(x,rho_c_til,varkappa))*(1 + (2/x)*C*rho_tilde(x,rho_c_til,varkappa)*(1 - 2*m_tilde(x,rho_c_til,varkappa)/x)**(1/2))**-1"
   ]
  },
  {
   "cell_type": "markdown",
   "id": "32584b2b",
   "metadata": {},
   "source": [
    "La densidad adimensional en el centro es\n",
    "\\begin{equation}\n",
    "    \\tilde{\\rho}\\left(x=0\\right) = \\tilde{\\rho}_{c}\\,,\n",
    "\\end{equation}\n",
    "mientras que en el borde es\n",
    "\\begin{equation}\n",
    "    \\tilde{\\rho}\\left(x=x_{b}\\right) = \\tilde{\\rho}_{c}\\left(1-\\alpha\\right) = \\tilde{\\rho}_{b}\\,\\,;\\, x_{b} = 1\\,.\n",
    "\\end{equation}\n",
    "De lo anterior podemos escribir el perfil de densidad como\n",
    "\\begin{equation}\n",
    "    \\tilde{\\rho} = \\tilde{\\rho}_{c}\\left[1-\\left(1-\\varkappa\\right)x^{2}\\right]\\,;\\,\\, \\varkappa = \\frac{\\rho_{b}}{\\rho_{c}} \\,.\n",
    "\\end{equation}"
   ]
  },
  {
   "cell_type": "code",
   "execution_count": 5,
   "id": "b00945e3",
   "metadata": {},
   "outputs": [],
   "source": [
    "# Función densidad\n",
    "def rho_tilde(x,rho_c_til,varkappa):\n",
    "    return rho_c_til*(1-(1-varkappa)*x**2)\n",
    "\n",
    "# Función masa\n",
    "def m_tilde(x,rho_c_til,varkappa):\n",
    "    return 4*np.pi*rho_c_til*((x**3/3)-(1-varkappa)*(x**5/5))\n",
    "\n",
    "# Anisotropía Cosenza\n",
    "def Delta_tilde(x,P_,rho_c_til,varkappa,C):\n",
    "    return C*(rho_tilde(x,rho_c_til,varkappa) + P_)*(m_tilde(x,rho_c_til,varkappa) + 4*np.pi*x**(3)*P_)/(x - 2*m_tilde(x,rho_c_til,varkappa))"
   ]
  },
  {
   "cell_type": "markdown",
   "id": "95b582ae",
   "metadata": {},
   "source": [
    "Dando $R$, el valor en metros del radio total, se tiene que\n",
    "\\begin{align}\n",
    "    \\rho_{s} &= \\frac{c^{2}}{GR^{2}} \\,\\,\\Rightarrow\\,\\, \\tilde{\\rho}_{c} = \\frac{GR^{2}}{c^{2}}\\rho_{c}\\,, \\\\\n",
    "    P_{s} &= \\frac{c^{4}}{GR^{2}} = \\rho_{s}c^{2}\\,, \\\\\n",
    "    m_{s} &= \\frac{Rc^{2}}{G}\\,.\n",
    "\\end{align}\n",
    "\n",
    "Dando $M_{\\odot}$, el valor de la masa total en unidades de masa solar, se tiene que\n",
    "\\begin{align}\n",
    "    R = \\frac{M_{\\odot}M_{sol}}{\\tilde{M}}\\frac{G}{c^{2}} \\quad \\Rightarrow \\quad R = \\left\\{\\frac{M_{\\odot}M_{sol}}{4\\pi\\rho_{c}\\left[\\frac{1}{3}-\\left(1-\\varkappa\\right)\\frac{1}{5}\\right]}\\right\\}^{1/3}\\,,\n",
    "\\end{align}\n",
    "donde $M_{sol}$ es la masa del sol en kilogramos. "
   ]
  },
  {
   "cell_type": "code",
   "execution_count": 6,
   "id": "8c43a95b",
   "metadata": {
    "scrolled": false
   },
   "outputs": [
    {
     "name": "stdout",
     "output_type": "stream",
     "text": [
      "Valores de C: 0.0, 0.0025, 0.005, 0.0075, 0.01, 0.0125, 0.015, 0.0175, 0.02, 0.0225, 0.025, 0.0275, 0.03, 0.0325, 0.035, 0.0375, 0.04, 0.0425, 0.045, 0.0475, 0.05, 0.0525, 0.055, 0.0575, 0.06, 0.0625, 0.065, 0.0675, 0.07, 0.0725, 0.075, 0.0775, 0.08, 0.0825, 0.085, 0.0875, 0.09, 0.0925, 0.095, 0.0975, 0.1, 0.1025, 0.105, 0.1075, 0.11, 0.1125, 0.115, 0.1175, 0.12, 0.1225, 0.125, 0.1275, 0.13, 0.1325, 0.135, 0.1375, 0.14, 0.1425, 0.145, 0.1475, 0.15, 0.1525, 0.155, 0.1575, 0.16, 0.1625, 0.165, 0.1675, 0.17, 0.1725, 0.175, 0.1775, 0.18, 0.1825, 0.185, 0.1875, 0.19, 0.1925, 0.195, 0.1975, 0.2, 0.2025, 0.205, 0.2075, 0.21, 0.2125, 0.215, 0.2175, 0.22, 0.2225, 0.225, 0.2275, 0.23, 0.2325, 0.235, 0.2375, 0.24, 0.2425, 0.245, 0.2475, 0.25, 0.2525, 0.255, 0.2575, 0.26, 0.2625, 0.265, 0.2675, 0.27, 0.2725, 0.275, 0.2775, 0.28, 0.2825, 0.285, 0.2875, 0.29, 0.2925, 0.295, 0.2975, 0.3, 0.3025, 0.305, 0.3075, 0.31, 0.3125, 0.315, 0.3175, 0.32, 0.3225, 0.325, 0.3275, 0.33, 0.3325, 0.335, 0.3375, 0.34, 0.3425, 0.345, 0.3475, 0.35, 0.3525, 0.355, 0.3575, 0.36, 0.3625, 0.365, 0.3675, 0.37, 0.3725, 0.375, 0.3775, 0.38, 0.3825, 0.385, 0.3875, 0.39, 0.3925, 0.395, 0.3975, 0.4, 0.4025, 0.405, 0.4075, 0.41, 0.4125, 0.415, 0.4175, 0.42, 0.4225, 0.425, 0.4275, 0.43, 0.4325, 0.435, 0.4375, 0.44, 0.4425, 0.445, 0.4475, 0.45, 0.4525, 0.455, 0.4575, 0.46, 0.4625, 0.465, 0.4675, 0.47, 0.4725, 0.475, 0.4775, 0.48, 0.4825, 0.485, 0.4875, 0.49, 0.4925, 0.495, 0.4975, 0.5, 0.5025, 0.505, 0.5075, 0.51, 0.5125, 0.515, 0.5175, 0.52, 0.5225, 0.525, 0.5275, 0.53, 0.5325, 0.535, 0.5375, 0.54, 0.5425, 0.545, 0.5475, 0.55, 0.5525, 0.555, 0.5575, 0.56, 0.5625, 0.565, 0.5675, 0.57, 0.5725, 0.575, 0.5775, 0.58, 0.5825, 0.585, 0.5875, 0.59, 0.5925, 0.595, 0.5975\n",
      "\n",
      "Valores de ρ_c: 1e+17, 4e+17, 7e+17, 9.999999999999999e+17, 1.3e+18, 1.6e+18, 1.9e+18, 2.2000000000000003e+18, 2.5e+18\n",
      "\n",
      "Valores de ϰ: 0.0, 0.1, 0.2, 0.3, 0.4, 0.5, 0.6, 0.7, 0.8, 0.9\n",
      "\n",
      "Número de modelos:  21600\n"
     ]
    }
   ],
   "source": [
    "Lista_C = np.round(np.arange(0,0.6,0.0025),4)\n",
    "print('Valores de C: ',end='')\n",
    "print(*Lista_C, sep=', ')\n",
    "\n",
    "Lista_rho_c = np.linspace(0.1,2.5,9)\n",
    "Lista_rho_c = [i*10**18 for i in Lista_rho_c]\n",
    "print('\\nValores de \\u03c1_c: ',end='')\n",
    "print(*Lista_rho_c, sep=', ')\n",
    "\n",
    "Lista_varkappa = [0.0,0.1,0.2,0.3,0.4,0.5,0.6,0.7,0.8,0.9]\n",
    "print('\\nValores de \\u03f0: ',end='')\n",
    "print(*Lista_varkappa, sep=', ')\n",
    "\n",
    "# Número total de modelos evaluados\n",
    "Numero_de_modelos = len(Lista_C)*len(Lista_rho_c)*len(Lista_varkappa)\n",
    "print('\\nNúmero de modelos: ', Numero_de_modelos)"
   ]
  },
  {
   "cell_type": "code",
   "execution_count": 7,
   "id": "6e5f0236",
   "metadata": {},
   "outputs": [
    {
     "name": "stdout",
     "output_type": "stream",
     "text": [
      "Wall time: 4min 11s\n"
     ]
    }
   ],
   "source": [
    "%%time\n",
    "\n",
    "Z = []\n",
    "\n",
    "for i in range(len(Lista_C)):\n",
    "    \n",
    "    Z.append([])\n",
    "    \n",
    "    C = Lista_C[i]\n",
    "    \n",
    "    for j in range(len(Lista_rho_c)):\n",
    "                \n",
    "        rho_c = Lista_rho_c[j]\n",
    "        \n",
    "        for k in range(len(Lista_varkappa)):\n",
    "                        \n",
    "            varkappa = Lista_varkappa[k]\n",
    "        \n",
    "            M_odot = 2.08                     # Masa total en unidades de masa solar\n",
    "            R = (M_odot*Msol/4/np.pi/rho_c/(1/3 - (1-varkappa)/5))**(1/3) \n",
    "            rho_c_til = G*R**2*rho_c/c**2 \n",
    "        \n",
    "    \n",
    "            P0 = 0                 # Condición inicial para Ecuación de equilibrio hidrostático\n",
    "        \n",
    "            xmin = 10**-15 \n",
    "            xmax = 1\n",
    "            x_span = (xmax,xmin)   # Integración desde el borde (x=1) hacia el centro (x=0)\n",
    "        \n",
    "            soluciones = solve_ivp(EcEqHid,x_span,[P0],args=[rho_c_til,varkappa,C],method='RK45',max_step=1/50)\n",
    "        \n",
    "            P_til = soluciones.y[0]                                      # Presión radial adimensional\n",
    "            x = soluciones.t                                             # Radio adimensional\n",
    "            m_til = m_tilde(x,rho_c_til,varkappa)                        # Masa adimensional\n",
    "            rho_til = rho_tilde(x,rho_c_til,varkappa)                    # Densidad de energía adimensional\n",
    "            gradP_til = np.gradient(P_til,x)                             # Derivada de la presión radial adimensional\n",
    "            Delta_til = -C*rho_til*np.sqrt(1 - 2*m_til/x)*gradP_til      # Anisotropía adimensional\n",
    "            Pt_til = Delta_til + P_til                                   # Presión tangencial adimensional\n",
    "            gradrho_til = np.gradient(rho_til,x)                         # Derivada de la densidad de energía adimensional\n",
    "            gradPt_til = np.gradient(Pt_til,x)                           # Derivada de la presión tangencial adimensional\n",
    "            vs2 = gradP_til/gradrho_til                                  # Velocidad del sonido radial al cuadrado\n",
    "            vst2 = gradPt_til/gradrho_til                                # Velocidad del sonido tangencial al cuadrado\n",
    "            gradgradrho_til = np.gradient(gradrho_til,x)                 # Derivada segunda de la densidad de energía adimensional\n",
    "            gradvs2 = np.gradient(vs2,x)                                 # Derivada de la velocidad del sonido radial al cuadrado\n",
    "        \n",
    "            ## Condición 1\n",
    "            C1 = 2*m_til/x\n",
    "            if any(C1 >= 1): \n",
    "                Z[i].append(int(0))\n",
    "                continue\n",
    "            else: pass\n",
    "        \n",
    "            ## Condición 2\n",
    "            C2A = rho_til\n",
    "            C2B = P_til\n",
    "            C2C = Pt_til\n",
    "            C2 = [C2A,C2B,C2C]\n",
    "            if any(C2[0] < 0) or any(C2[1] < 0) or any(C2[2] < 0): \n",
    "                Z[i].append(int(0))\n",
    "                continue\n",
    "            else: pass\n",
    "        \n",
    "            ## Condición 3\n",
    "            C3A = gradrho_til\n",
    "            C3B = gradP_til\n",
    "            C3C = gradPt_til\n",
    "            C3 = [C3A,C3B,C3C]\n",
    "            if any(C3[0] > 0) or any (C3[1] > 0) or any (C3[2][:-2] > 0): \n",
    "                Z[i].append(int(0))\n",
    "                continue\n",
    "            else: pass\n",
    "        \n",
    "            ## Condición 4\n",
    "            C4 = rho_til - P_til - 2*Pt_til\n",
    "            if any(C4 < 0): \n",
    "                Z[i].append(int(0))\n",
    "                continue\n",
    "            else: pass\n",
    "        \n",
    "            ## Condición 5\n",
    "            C5A = vs2             \n",
    "            C5B = vst2   \n",
    "            C5 = [C5A,C5B]\n",
    "            if any(C5[0] > 1) or any(C5[1] > 1): \n",
    "                Z[i].append(int(0))\n",
    "                continue\n",
    "            else: pass\n",
    "        \n",
    "            ## Condición 6\n",
    "            C6 = ((rho_til[1:] + P_til[1:])*vs2[1:]/P_til[1:])\n",
    "            if any(C6 < 4/3): \n",
    "                Z[i].append(int(0))\n",
    "                continue\n",
    "            else: pass\n",
    "        \n",
    "            ## Condición 7\n",
    "            #C7 = var_M_til\n",
    "        \n",
    "            ## Condición 8\n",
    "            C8rho = (m_til + 4*np.pi*x**3*P_til)/x/(x - 2*m_til)*(1 + (2/x)*C*rho_til*(1 - 2*m_til/x)**(1/2))**(-2)*(1 - (2/x)*C*P_til*(1 - 2*m_til/x)**(1/2))\n",
    "            C8P = ((m_til + 4*np.pi*x**3*(rho_til + 2*P_til))/x/(x - 2*m_til)*(1 + (2/x)*C*rho_til*(1 - 2*m_til/x)**(1/2))**(-1))*vs2\n",
    "            C8m = ((rho_til + P_til)*(1 + (2/x)*C*rho_til*(1 - 2*m_til/x)**(1/2))**(-2)*((x - 2*m_til)**(-2)*(1 + 8*np.pi*x**2*P_til)*(1 + (2/x)*C*rho_til*(1 - 2*m_til/x)**(1/2)) + 2*C*rho_til*(m_til + 4*np.pi*x**3*P_til)*(1 - 2*m_til/x)**(-1/2)/x**3/(x - 2*m_til)))*(4*np.pi*x**2*rho_til/gradrho_til)\n",
    "            C8dP = gradvs2 + vs2*gradgradrho_til/gradrho_til\n",
    "            C8T = C8rho + C8P + C8m + C8dP\n",
    "        \n",
    "            C8 = [C8T,C8rho,C8P,C8m,C8dP]\n",
    "            if any(np.diff(np.sign(C8[0][2:-1])) != 0): \n",
    "                Z[i].append(int(0))\n",
    "                continue\n",
    "            else: pass\n",
    "        \n",
    "            ## Condición 9\n",
    "            C9 = gradgradrho_til\n",
    "            \n",
    "            Z[i].append(int(9))\n",
    "            "
   ]
  },
  {
   "cell_type": "code",
   "execution_count": 8,
   "id": "cb3e5115",
   "metadata": {},
   "outputs": [
    {
     "data": {
      "text/plain": [
       "2.65"
      ]
     },
     "execution_count": 8,
     "metadata": {},
     "output_type": "execute_result"
    }
   ],
   "source": [
    "NMAs_ = np.array([x.count(9) for x in Z])\n",
    "UltInd = np.min(np.where(NMAs_ == 0))+1\n",
    "ListaC = Lista_C[:UltInd]\n",
    "NMAs = NMAs_[:UltInd]\n",
    "NCmax = np.max(NMAs)\n",
    "C0 = ListaC[-1]\n",
    "Cmax = ListaC[np.min(np.where(NMAs == NCmax))]\n",
    "Area = integrate.cumtrapz(NMAs,ListaC,initial=NMAs[0])[-1]\n",
    "round(Area,2)"
   ]
  },
  {
   "cell_type": "code",
   "execution_count": 9,
   "id": "6684bf05",
   "metadata": {},
   "outputs": [
    {
     "name": "stdout",
     "output_type": "stream",
     "text": [
      "Stored 'NMA_PG' (list)\n"
     ]
    }
   ],
   "source": [
    "NMA_PG = []\n",
    "NMA_PG.extend([ListaC,NMAs,C0,Cmax,NCmax,Area])\n",
    "\n",
    "%store NMA_PG"
   ]
  },
  {
   "cell_type": "code",
   "execution_count": 10,
   "id": "cab4d19a",
   "metadata": {},
   "outputs": [
    {
     "name": "stdout",
     "output_type": "stream",
     "text": [
      "Stored 'Z_PG' (list)\n"
     ]
    }
   ],
   "source": [
    "Z_PG = Z[:UltInd]\n",
    "%store Z_PG"
   ]
  },
  {
   "cell_type": "code",
   "execution_count": 11,
   "id": "5754d3c4",
   "metadata": {},
   "outputs": [
    {
     "data": {
      "image/png": "[encoded data removed]",
      "text/plain": [
       "<Figure size 450x450 with 1 Axes>"
      ]
     },
     "metadata": {
      "needs_background": "light"
     },
     "output_type": "display_data"
    }
   ],
   "source": [
    "fig, ax1 = plt.subplots(nrows=1,ncols=1,figsize=(3,3),dpi=150)\n",
    "\n",
    "ax1.plot(ListaC,NMAs,linestyle='-',label=r'$\\textrm{9 condiciones}$')\n",
    "\n",
    "ax1.set_xbound(ListaC[0],ListaC[-1])\n",
    "ax1.set_ybound(0,max(NMAs)+0.05*max(NMAs))\n",
    "ax1.set_xlabel(r'$\\textrm{Factor de anisotropía}\\,\\left(C\\right)$',fontsize=10)\n",
    "ax1.set_ylabel(r'$\\textrm{Número de modelos aceptables}$',fontsize=10)\n",
    "ax1.set_title(r'$\\Delta_{PG}$',fontsize=16,x=0.5,y=1.01)\n",
    "\n",
    "plt.show()"
   ]
  },
  {
   "cell_type": "code",
   "execution_count": 12,
   "id": "df8e1d9e",
   "metadata": {},
   "outputs": [
    {
     "data": {
      "image/png": "[encoded data removed]",
      "text/plain": [
       "<Figure size 450x450 with 1 Axes>"
      ]
     },
     "metadata": {
      "needs_background": "light"
     },
     "output_type": "display_data"
    }
   ],
   "source": [
    "fig, ax1 = plt.subplots(nrows=1,ncols=1,figsize=(3,3),dpi=150)\n",
    "\n",
    "ax1.plot(ListaC,NMAs,linestyle='-',label=r'$\\textrm{9 condiciones}$')\n",
    "\n",
    "ax1.set_xbound(ListaC[0],ListaC[-1])\n",
    "ax1.set_ybound(0,max(NMAs)+0.05*max(NMAs))\n",
    "ax1.set_xlabel(r'$\\textrm{Factor de anisotropía}\\,\\left(C\\right)$',fontsize=10)\n",
    "ax1.set_ylabel(r'$\\textrm{Número de modelos aceptables}$',fontsize=10)\n",
    "ax1.set_title(r'$\\Delta_{PG}$',fontsize=16,x=0.5,y=1.01)\n",
    "\n",
    "plt.show()"
   ]
  },
  {
   "cell_type": "code",
   "execution_count": 13,
   "id": "fa9cff8f",
   "metadata": {},
   "outputs": [
    {
     "data": {
      "image/png": "[encoded data removed]",
      "text/plain": [
       "<Figure size 450x450 with 1 Axes>"
      ]
     },
     "metadata": {
      "needs_background": "light"
     },
     "output_type": "display_data"
    }
   ],
   "source": [
    "fig, ax1 = plt.subplots(nrows=1,ncols=1,figsize=(3,3),dpi=150)\n",
    "\n",
    "ax1.plot(ListaC/ListaC[-1],NMAs,linestyle='-',label=r'$\\textrm{9 condiciones}$')\n",
    "ax1.scatter(ListaC,NMAs,marker='o',s=0)\n",
    "\n",
    "ax1.set_xbound(ListaC[0]/ListaC[-1],ListaC[-1]/ListaC[-1])\n",
    "ax1.set_ybound(0,max(NMAs)+0.05*max(NMAs))\n",
    "ax1.set_xlabel(r'$\\textrm{Factor de anisotropía}\\,\\left(C\\right)$',fontsize=10)\n",
    "ax1.set_ylabel(r'$\\textrm{Número de modelos aceptables}$',fontsize=10)\n",
    "ax1.set_title(r'$\\Delta_{PG}$',fontsize=16,x=0.5,y=1.01)\n",
    "\n",
    "plt.show()"
   ]
  }
 ],
 "metadata": {
  "kernelspec": {
   "display_name": "Python 3 (ipykernel)",
   "language": "python",
   "name": "python3"
  },
  "language_info": {
   "codemirror_mode": {
    "name": "ipython",
    "version": 3
   },
   "file_extension": ".py",
   "mimetype": "text/x-python",
   "name": "python",
   "nbconvert_exporter": "python",
   "pygments_lexer": "ipython3",
   "version": "3.9.7"
  }
 },
 "nbformat": 4,
 "nbformat_minor": 5
}
