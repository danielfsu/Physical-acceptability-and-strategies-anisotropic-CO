{
 "cells": [
  {
   "cell_type": "markdown",
   "id": "0e2fe5d1",
   "metadata": {},
   "source": [
    "# Anisotropía en objetos compactos\n",
    "\n",
    "## Resolver ecuaciones de campo de Einstein para un objeto estático, simétricamente esférico y anisótropo\n",
    "\n",
    "### Conociendo $\\Delta = P_{\\perp} - P$ y $\\rho = \\rho(r)$."
   ]
  },
  {
   "cell_type": "code",
   "execution_count": 1,
   "id": "351ec315",
   "metadata": {},
   "outputs": [],
   "source": [
    "import numpy as np\n",
    "import matplotlib.pyplot as plt\n",
    "from scipy import integrate\n",
    "from scipy.integrate import solve_ivp"
   ]
  },
  {
   "cell_type": "code",
   "execution_count": 2,
   "id": "c49e9a88",
   "metadata": {},
   "outputs": [],
   "source": [
    "plt.rcParams.update({'text.latex.preamble' : r'\\usepackage{amssymb}'})\n",
    "plt.rcParams.update({'text.usetex': True,'font.serif': 'sans-serif'})\n",
    "plt.rcParams['xtick.labelsize'] = 9\n",
    "plt.rcParams['ytick.labelsize'] = 9\n",
    "plt.rcParams['axes.spines.top'] = False\n",
    "plt.rcParams['axes.spines.right'] = False\n",
    "plt.rcParams['figure.dpi'] = 150\n",
    "plt.rcParams['axes.titley'] = 1.0\n",
    "plt.rcParams['axes.titlesize'] = 12\n",
    "plt.rcParams['axes.labelsize'] = 10\n",
    "plt.rcParams[\"savefig.dpi\"] = 150\n",
    "plt.rcParams[\"savefig.bbox\"] = 'tight'"
   ]
  },
  {
   "cell_type": "code",
   "execution_count": 3,
   "id": "a7d506e3",
   "metadata": {},
   "outputs": [],
   "source": [
    "c = 2.997*10**(8)          # Velocidad de la luz en unidades S.I.\n",
    "G = 6.673*10**(-11)        # Constante de gravitación universal en unidades S.I.\n",
    "Msol = 1.989*10**(30)      # 1 Masa solar en kilogramos"
   ]
  },
  {
   "cell_type": "markdown",
   "id": "aba5e9a1",
   "metadata": {},
   "source": [
    "## Ecuaciones de estructura: \n",
    "\n",
    "\\begin{align}\n",
    "    \\frac{\\mathrm{d}P}{\\mathrm{d}r} &= -\\frac{G m\\rho}{r^{2}} \\left(1 + \\frac{P}{\\rho c^{2}}\\right)\\left(1 + \\frac{4\\pi r^{3}P}{m c^{2}}\\right)\\left(1 - \\frac{2Gm}{rc^{2}}\\right)^{-1} + \\frac{2\\left(P_{\\perp}-P\\right)}{r} \\\\\n",
    "    &= -G\\frac{\\left[\\rho + \\left(P/c^{2}\\right)\\right]\\left[m + \\left(4\\pi r^{3}P/c^{2}\\right)\\right]}{r\\left[r - \\left(2mG/c^{2}\\right)\\right]} + \\frac{2\\left(P_{\\perp}-P\\right)}{r} \\qquad \\text{y} \\\\\n",
    "    \\frac{\\mathrm{d}m}{\\mathrm{d}r} &= 4\\pi r^{2}\\rho\\,.\n",
    "\\end{align}\n",
    "\n",
    "### En sistema de unidades geométricas ($c=G=1$) se tiene\n",
    "\n",
    "\\begin{align}\n",
    "    \\frac{\\mathrm{d}P}{\\mathrm{d}r} &= -\\frac{m\\rho}{r^{2}} \\left(1 + \\frac{P}{\\rho}\\right)\\left(1 + \\frac{4\\pi r^{3}P}{m}\\right)\\left(1 - \\frac{2m}{r}\\right)^{-1} + \\frac{2\\left(P_{\\perp}-P\\right)}{r} \\\\\n",
    "    &= -\\frac{\\left(\\rho + P\\right)\\left(m + 4\\pi r^{3}P\\right)}{r\\left(r - 2m\\right)} + \\frac{2\\left(P_{\\perp}-P\\right)}{r} \\qquad \\text{y} \\\\\n",
    "    \\frac{\\mathrm{d}m}{\\mathrm{d}r} &= 4\\pi r^{2}\\rho\\,.\n",
    "\\end{align}"
   ]
  },
  {
   "cell_type": "markdown",
   "id": "aa748fe6",
   "metadata": {},
   "source": [
    "Se adimensionaliza las ecuaciones de estructura proponiendo:\n",
    "\n",
    "\\begin{align*}\n",
    "    m = R\\tilde{m}\\,, \\quad P = \\frac{1}{R^{2}}\\tilde{P}\\,, \\quad P_{\\perp} = \\frac{1}{R^{2}}\\tilde{P}_{\\perp}\\,, \\quad \\rho = \\frac{1}{R^{2}}\\tilde{\\rho}\\,, \\quad r = R x\\,.\n",
    "\\end{align*}\n"
   ]
  },
  {
   "cell_type": "markdown",
   "id": "e45c8bbf",
   "metadata": {},
   "source": [
    "Por lo tanto, las ecuaciones ahora son\n",
    "\n",
    "\\begin{align*}\n",
    "    \\frac{\\mathrm{d}\\tilde{P}}{\\mathrm{d}x} &= -\\frac{\\left(\\tilde{\\rho} + \\tilde{P}\\right)\\left(\\tilde{m} + 4\\pi\\tilde{P}x^{3}\\right)}{x\\left(x-2\\tilde{m}\\right)} + \\frac{2\\left(\\tilde{P}_{\\perp} - \\tilde{P}\\right)}{x}  \\qquad \\text{y} \\\\\n",
    "    \\frac{\\mathrm{d}\\tilde{m}}{\\mathrm{d}x} &= 4\\pi\\tilde{\\rho}x^{2} \\,.\n",
    "\\end{align*}"
   ]
  },
  {
   "cell_type": "markdown",
   "id": "fd2ae93c",
   "metadata": {},
   "source": [
    "Por otra parte, la anisotropía (Herrera) es\n",
    "\\begin{equation}\n",
    "    \\Delta = - \\frac{1}{2 r^{3}} \\int_{0}^{r} \\tilde{r}^{3} \\rho^{\\prime} \\mathrm{d}\\tilde{r} = \\frac{\\rho_{c}\\alpha r^{2}}{5 R^{2}}\\,.\n",
    "\\end{equation}\n",
    "\n",
    "Adimensionalizando se tiene\n",
    "\\begin{equation}\n",
    "    \\tilde{\\Delta} = \\frac{\\tilde{\\rho}_{c}\\alpha x^{2}}{5}\\,.\n",
    "\\end{equation}"
   ]
  },
  {
   "cell_type": "markdown",
   "id": "30aec11e",
   "metadata": {},
   "source": [
    "Ahora, introducimos el perfil de densidad\n",
    "\\begin{align*}\n",
    "    \\tilde{\\rho} = \\tilde{\\rho}_{c}\\left(1-\\alpha x^{2}\\right)\\,,\n",
    "\\end{align*}\n",
    "por lo que la masa es\n",
    "\\begin{align*}\n",
    "    \\tilde{m} = 4\\pi\\tilde{\\rho}_{c}\\left(\\frac{x^{3}}{3} - \\alpha\\frac{x^{5}}{5}\\right)\n",
    "\\end{align*}\n",
    "y puede ser reemplazada en la ecuación de equilibrio hidrostático."
   ]
  },
  {
   "cell_type": "code",
   "execution_count": 4,
   "id": "2b301e87",
   "metadata": {},
   "outputs": [],
   "source": [
    "# Ecuación de equilibrio hidrostático a resolver\n",
    "def EcEqHid(x,P_,rho_c_til,varkappa,C):\n",
    "    return -(rho_tilde(x,rho_c_til,varkappa) + P_)*(m_tilde(x,rho_c_til,varkappa) + 4*np.pi*x**(3)*P_)/x/(x - 2*m_tilde(x,rho_c_til,varkappa)) + 2*Delta_tilde(x,rho_c_til,varkappa,C)/x"
   ]
  },
  {
   "cell_type": "markdown",
   "id": "32584b2b",
   "metadata": {},
   "source": [
    "La densidad adimensional en el centro es\n",
    "\\begin{equation}\n",
    "    \\tilde{\\rho}\\left(x=0\\right) = \\tilde{\\rho}_{c}\\,,\n",
    "\\end{equation}\n",
    "mientras que en el borde es\n",
    "\\begin{equation}\n",
    "    \\tilde{\\rho}\\left(x=x_{b}\\right) = \\tilde{\\rho}_{c}\\left(1-\\alpha\\right) = \\tilde{\\rho}_{b}\\,\\,;\\, x_{b} = 1\\,.\n",
    "\\end{equation}\n",
    "De lo anterior podemos escribir el perfil de densidad como\n",
    "\\begin{equation}\n",
    "    \\tilde{\\rho} = \\tilde{\\rho}_{c}\\left[1-\\left(1-\\varkappa\\right)x^{2}\\right]\\,;\\,\\, \\varkappa = \\frac{\\rho_{b}}{\\rho_{c}} \\,.\n",
    "\\end{equation}"
   ]
  },
  {
   "cell_type": "code",
   "execution_count": 5,
   "id": "b00945e3",
   "metadata": {},
   "outputs": [],
   "source": [
    "# Función densidad\n",
    "def rho_tilde(x,rho_c_til,varkappa):\n",
    "    return rho_c_til*(1-(1-varkappa)*x**2)\n",
    "\n",
    "# Función masa\n",
    "def m_tilde(x,rho_c_til,varkappa):\n",
    "    return 4*np.pi*rho_c_til*((x**3/3)-(1-varkappa)*(x**5/5))\n",
    "\n",
    "# Anisotropía Herrera\n",
    "def Delta_tilde(x,rho_c_til,varkappa,C):\n",
    "    return C*rho_c_til*(1-varkappa)*(x**2)/5"
   ]
  },
  {
   "cell_type": "markdown",
   "id": "95b582ae",
   "metadata": {},
   "source": [
    "Dando $R$, el valor en metros del radio total, se tiene que\n",
    "\\begin{align}\n",
    "    \\rho_{s} &= \\frac{c^{2}}{GR^{2}} \\,\\,\\Rightarrow\\,\\, \\tilde{\\rho}_{c} = \\frac{GR^{2}}{c^{2}}\\rho_{c}\\,, \\\\\n",
    "    P_{s} &= \\frac{c^{4}}{GR^{2}} = \\rho_{s}c^{2}\\,, \\\\\n",
    "    m_{s} &= \\frac{Rc^{2}}{G}\\,.\n",
    "\\end{align}\n",
    "\n",
    "Dando $M_{\\odot}$, el valor de la masa total en unidades de masa solar, se tiene que\n",
    "\\begin{align}\n",
    "    R = \\frac{M_{\\odot}M_{sol}}{\\tilde{M}}\\frac{G}{c^{2}} \\quad \\Rightarrow \\quad R = \\left\\{\\frac{M_{\\odot}M_{sol}}{4\\pi\\rho_{c}\\left[\\frac{1}{3}-\\left(1-\\varkappa\\right)\\frac{1}{5}\\right]}\\right\\}^{1/3}\\,,\n",
    "\\end{align}\n",
    "donde $M_{sol}$ es la masa del sol en kilogramos. "
   ]
  },
  {
   "cell_type": "code",
   "execution_count": 6,
   "id": "8c43a95b",
   "metadata": {
    "scrolled": false
   },
   "outputs": [
    {
     "name": "stdout",
     "output_type": "stream",
     "text": [
      "Valores de C: 0.0, 0.0025, 0.005, 0.0075, 0.01, 0.0125, 0.015, 0.0175, 0.02, 0.0225, 0.025, 0.0275, 0.03, 0.0325, 0.035, 0.0375, 0.04, 0.0425, 0.045, 0.0475, 0.05, 0.0525, 0.055, 0.0575, 0.06, 0.0625, 0.065, 0.0675, 0.07, 0.0725, 0.075, 0.0775, 0.08, 0.0825, 0.085, 0.0875, 0.09, 0.0925, 0.095, 0.0975, 0.1, 0.1025, 0.105, 0.1075, 0.11, 0.1125, 0.115, 0.1175, 0.12, 0.1225, 0.125, 0.1275, 0.13, 0.1325, 0.135, 0.1375, 0.14, 0.1425, 0.145, 0.1475, 0.15, 0.1525, 0.155, 0.1575, 0.16, 0.1625, 0.165, 0.1675, 0.17, 0.1725, 0.175, 0.1775, 0.18, 0.1825, 0.185, 0.1875, 0.19, 0.1925, 0.195, 0.1975, 0.2, 0.2025, 0.205, 0.2075, 0.21, 0.2125, 0.215, 0.2175, 0.22, 0.2225, 0.225, 0.2275, 0.23, 0.2325, 0.235, 0.2375, 0.24, 0.2425, 0.245, 0.2475, 0.25, 0.2525, 0.255, 0.2575, 0.26, 0.2625, 0.265, 0.2675, 0.27, 0.2725, 0.275, 0.2775, 0.28, 0.2825, 0.285, 0.2875, 0.29, 0.2925, 0.295, 0.2975, 0.3, 0.3025, 0.305, 0.3075, 0.31, 0.3125, 0.315, 0.3175, 0.32, 0.3225, 0.325, 0.3275, 0.33, 0.3325, 0.335, 0.3375, 0.34, 0.3425, 0.345, 0.3475, 0.35, 0.3525, 0.355, 0.3575, 0.36, 0.3625, 0.365, 0.3675, 0.37, 0.3725, 0.375, 0.3775, 0.38, 0.3825, 0.385, 0.3875, 0.39, 0.3925, 0.395, 0.3975, 0.4, 0.4025, 0.405, 0.4075, 0.41, 0.4125, 0.415, 0.4175, 0.42, 0.4225, 0.425, 0.4275, 0.43, 0.4325, 0.435, 0.4375, 0.44, 0.4425, 0.445, 0.4475, 0.45, 0.4525, 0.455, 0.4575, 0.46, 0.4625, 0.465, 0.4675, 0.47, 0.4725, 0.475, 0.4775, 0.48, 0.4825, 0.485, 0.4875, 0.49, 0.4925, 0.495, 0.4975, 0.5, 0.5025, 0.505, 0.5075, 0.51, 0.5125, 0.515, 0.5175, 0.52, 0.5225, 0.525, 0.5275, 0.53, 0.5325, 0.535, 0.5375, 0.54, 0.5425, 0.545, 0.5475, 0.55, 0.5525, 0.555, 0.5575, 0.56, 0.5625, 0.565, 0.5675, 0.57, 0.5725, 0.575, 0.5775, 0.58, 0.5825, 0.585, 0.5875, 0.59, 0.5925, 0.595, 0.5975, 0.6, 0.6025, 0.605, 0.6075, 0.61, 0.6125, 0.615, 0.6175, 0.62, 0.6225, 0.625, 0.6275, 0.63, 0.6325, 0.635, 0.6375, 0.64, 0.6425, 0.645, 0.6475, 0.65, 0.6525, 0.655, 0.6575, 0.66, 0.6625, 0.665, 0.6675, 0.67, 0.6725, 0.675, 0.6775, 0.68, 0.6825, 0.685, 0.6875, 0.69, 0.6925, 0.695, 0.6975, 0.7, 0.7025, 0.705, 0.7075, 0.71, 0.7125, 0.715, 0.7175, 0.72, 0.7225, 0.725, 0.7275, 0.73, 0.7325, 0.735, 0.7375, 0.74, 0.7425, 0.745, 0.7475, 0.75, 0.7525, 0.755, 0.7575, 0.76, 0.7625, 0.765, 0.7675, 0.77, 0.7725, 0.775, 0.7775, 0.78, 0.7825, 0.785, 0.7875, 0.79, 0.7925, 0.795, 0.7975, 0.8, 0.8025, 0.805, 0.8075, 0.81, 0.8125, 0.815, 0.8175, 0.82, 0.8225, 0.825, 0.8275, 0.83, 0.8325, 0.835, 0.8375, 0.84, 0.8425, 0.845, 0.8475, 0.85, 0.8525, 0.855, 0.8575, 0.86, 0.8625, 0.865, 0.8675, 0.87, 0.8725, 0.875, 0.8775, 0.88, 0.8825, 0.885, 0.8875, 0.89, 0.8925, 0.895, 0.8975, 0.9, 0.9025, 0.905, 0.9075, 0.91, 0.9125, 0.915, 0.9175, 0.92, 0.9225, 0.925, 0.9275, 0.93, 0.9325, 0.935, 0.9375, 0.94, 0.9425, 0.945, 0.9475, 0.95, 0.9525, 0.955, 0.9575, 0.96, 0.9625, 0.965, 0.9675, 0.97, 0.9725, 0.975, 0.9775, 0.98, 0.9825, 0.985, 0.9875, 0.99, 0.9925, 0.995, 0.9975, 1.0, 1.0025, 1.005, 1.0075, 1.01, 1.0125, 1.015, 1.0175, 1.02, 1.0225, 1.025, 1.0275, 1.03, 1.0325, 1.035, 1.0375, 1.04, 1.0425, 1.045, 1.0475, 1.05, 1.0525, 1.055, 1.0575, 1.06, 1.0625, 1.065, 1.0675, 1.07, 1.0725, 1.075, 1.0775, 1.08, 1.0825, 1.085, 1.0875, 1.09, 1.0925, 1.095, 1.0975, 1.1, 1.1025, 1.105, 1.1075, 1.11, 1.1125, 1.115, 1.1175, 1.12, 1.1225, 1.125, 1.1275, 1.13, 1.1325, 1.135, 1.1375, 1.14, 1.1425, 1.145, 1.1475, 1.15, 1.1525, 1.155, 1.1575, 1.16, 1.1625, 1.165, 1.1675, 1.17, 1.1725, 1.175, 1.1775, 1.18, 1.1825, 1.185, 1.1875, 1.19, 1.1925, 1.195, 1.1975, 1.2, 1.2025, 1.205, 1.2075, 1.21, 1.2125, 1.215, 1.2175, 1.22, 1.2225, 1.225, 1.2275, 1.23, 1.2325, 1.235, 1.2375, 1.24, 1.2425, 1.245, 1.2475, 1.25, 1.2525, 1.255, 1.2575, 1.26, 1.2625, 1.265, 1.2675, 1.27, 1.2725, 1.275, 1.2775, 1.28, 1.2825, 1.285, 1.2875, 1.29, 1.2925, 1.295, 1.2975, 1.3, 1.3025, 1.305, 1.3075, 1.31, 1.3125, 1.315, 1.3175, 1.32, 1.3225, 1.325, 1.3275, 1.33, 1.3325, 1.335, 1.3375, 1.34, 1.3425, 1.345, 1.3475, 1.35, 1.3525, 1.355, 1.3575, 1.36, 1.3625, 1.365, 1.3675, 1.37, 1.3725, 1.375, 1.3775, 1.38, 1.3825, 1.385, 1.3875, 1.39, 1.3925, 1.395, 1.3975, 1.4, 1.4025, 1.405, 1.4075, 1.41, 1.4125, 1.415, 1.4175, 1.42, 1.4225, 1.425, 1.4275, 1.43, 1.4325, 1.435, 1.4375, 1.44, 1.4425, 1.445, 1.4475, 1.45, 1.4525, 1.455, 1.4575, 1.46, 1.4625, 1.465, 1.4675, 1.47, 1.4725, 1.475, 1.4775, 1.48, 1.4825, 1.485, 1.4875, 1.49, 1.4925, 1.495, 1.4975, 1.5, 1.5025, 1.505, 1.5075, 1.51, 1.5125, 1.515, 1.5175, 1.52, 1.5225, 1.525, 1.5275, 1.53, 1.5325, 1.535, 1.5375, 1.54, 1.5425, 1.545, 1.5475, 1.55, 1.5525, 1.555, 1.5575, 1.56, 1.5625, 1.565, 1.5675, 1.57, 1.5725, 1.575, 1.5775, 1.58, 1.5825, 1.585, 1.5875, 1.59, 1.5925, 1.595, 1.5975, 1.6, 1.6025, 1.605, 1.6075, 1.61, 1.6125, 1.615, 1.6175, 1.62, 1.6225, 1.625, 1.6275, 1.63, 1.6325, 1.635, 1.6375, 1.64, 1.6425, 1.645, 1.6475, 1.65, 1.6525, 1.655, 1.6575, 1.66, 1.6625, 1.665, 1.6675, 1.67, 1.6725, 1.675, 1.6775, 1.68, 1.6825, 1.685, 1.6875, 1.69, 1.6925, 1.695, 1.6975, 1.7, 1.7025, 1.705, 1.7075, 1.71, 1.7125, 1.715, 1.7175, 1.72, 1.7225, 1.725, 1.7275, 1.73, 1.7325, 1.735, 1.7375, 1.74, 1.7425, 1.745, 1.7475, 1.75, 1.7525, 1.755, 1.7575, 1.76, 1.7625, 1.765, 1.7675, 1.77, 1.7725, 1.775, 1.7775, 1.78, 1.7825, 1.785, 1.7875, 1.79, 1.7925, 1.795, 1.7975, 1.8, 1.8025, 1.805, 1.8075, 1.81, 1.8125, 1.815, 1.8175, 1.82, 1.8225, 1.825, 1.8275, 1.83, 1.8325, 1.835, 1.8375, 1.84, 1.8425, 1.845, 1.8475, 1.85, 1.8525, 1.855, 1.8575, 1.86, 1.8625, 1.865, 1.8675, 1.87, 1.8725, 1.875, 1.8775, 1.88, 1.8825, 1.885, 1.8875, 1.89, 1.8925, 1.895, 1.8975, 1.9, 1.9025, 1.905, 1.9075, 1.91, 1.9125, 1.915, 1.9175, 1.92, 1.9225, 1.925, 1.9275, 1.93, 1.9325, 1.935, 1.9375, 1.94, 1.9425, 1.945, 1.9475, 1.95, 1.9525, 1.955, 1.9575, 1.96, 1.9625, 1.965, 1.9675, 1.97, 1.9725, 1.975, 1.9775, 1.98, 1.9825, 1.985, 1.9875, 1.99, 1.9925, 1.995, 1.9975, 2.0, 2.0025, 2.005, 2.0075, 2.01, 2.0125, 2.015, 2.0175, 2.02, 2.0225, 2.025, 2.0275, 2.03, 2.0325, 2.035, 2.0375, 2.04, 2.0425, 2.045, 2.0475, 2.05, 2.0525, 2.055, 2.0575, 2.06, 2.0625, 2.065, 2.0675, 2.07, 2.0725, 2.075, 2.0775, 2.08, 2.0825, 2.085, 2.0875, 2.09, 2.0925, 2.095, 2.0975, 2.1, 2.1025, 2.105, 2.1075, 2.11, 2.1125, 2.115, 2.1175, 2.12, 2.1225, 2.125, 2.1275, 2.13, 2.1325, 2.135, 2.1375, 2.14, 2.1425, 2.145, 2.1475, 2.15, 2.1525, 2.155, 2.1575, 2.16, 2.1625, 2.165, 2.1675, 2.17, 2.1725, 2.175, 2.1775, 2.18, 2.1825, 2.185, 2.1875, 2.19, 2.1925, 2.195, 2.1975, 2.2, 2.2025, 2.205, 2.2075, 2.21, 2.2125, 2.215, 2.2175, 2.22, 2.2225, 2.225, 2.2275, 2.23, 2.2325, 2.235, 2.2375, 2.24, 2.2425, 2.245, 2.2475, 2.25, 2.2525, 2.255, 2.2575, 2.26, 2.2625, 2.265, 2.2675, 2.27, 2.2725, 2.275, 2.2775, 2.28, 2.2825, 2.285, 2.2875, 2.29, 2.2925, 2.295, 2.2975, 2.3, 2.3025, 2.305, 2.3075, 2.31, 2.3125, 2.315, 2.3175, 2.32, 2.3225, 2.325, 2.3275, 2.33, 2.3325, 2.335, 2.3375, 2.34, 2.3425, 2.345, 2.3475, 2.35, 2.3525, 2.355, 2.3575, 2.36, 2.3625, 2.365, 2.3675, 2.37, 2.3725, 2.375, 2.3775, 2.38, 2.3825, 2.385, 2.3875, 2.39, 2.3925, 2.395, 2.3975, 2.4, 2.4025, 2.405, 2.4075, 2.41, 2.4125, 2.415, 2.4175, 2.42, 2.4225, 2.425, 2.4275, 2.43, 2.4325, 2.435, 2.4375, 2.44, 2.4425, 2.445, 2.4475, 2.45, 2.4525, 2.455, 2.4575, 2.46, 2.4625, 2.465, 2.4675, 2.47, 2.4725, 2.475, 2.4775, 2.48, 2.4825, 2.485, 2.4875, 2.49, 2.4925, 2.495, 2.4975, 2.5, 2.5025, 2.505, 2.5075, 2.51, 2.5125, 2.515, 2.5175, 2.52, 2.5225, 2.525, 2.5275, 2.53, 2.5325, 2.535, 2.5375, 2.54, 2.5425, 2.545, 2.5475, 2.55, 2.5525, 2.555, 2.5575, 2.56, 2.5625, 2.565, 2.5675, 2.57, 2.5725, 2.575, 2.5775, 2.58, 2.5825, 2.585, 2.5875, 2.59, 2.5925, 2.595, 2.5975, 2.6, 2.6025, 2.605, 2.6075, 2.61, 2.6125, 2.615, 2.6175, 2.62, 2.6225, 2.625, 2.6275, 2.63, 2.6325, 2.635, 2.6375, 2.64, 2.6425, 2.645, 2.6475, 2.65, 2.6525, 2.655, 2.6575, 2.66, 2.6625, 2.665, 2.6675, 2.67, 2.6725, 2.675, 2.6775, 2.68, 2.6825, 2.685, 2.6875, 2.69, 2.6925, 2.695, 2.6975, 2.7, 2.7025, 2.705, 2.7075, 2.71, 2.7125, 2.715, 2.7175, 2.72, 2.7225, 2.725, 2.7275, 2.73, 2.7325, 2.735, 2.7375, 2.74, 2.7425, 2.745, 2.7475, 2.75, 2.7525, 2.755, 2.7575, 2.76, 2.7625, 2.765, 2.7675, 2.77, 2.7725, 2.775, 2.7775, 2.78, 2.7825, 2.785, 2.7875, 2.79, 2.7925, 2.795, 2.7975, 2.8, 2.8025, 2.805, 2.8075, 2.81, 2.8125, 2.815, 2.8175, 2.82, 2.8225, 2.825, 2.8275, 2.83, 2.8325, 2.835, 2.8375, 2.84, 2.8425, 2.845, 2.8475, 2.85, 2.8525, 2.855, 2.8575, 2.86, 2.8625, 2.865, 2.8675, 2.87, 2.8725, 2.875, 2.8775, 2.88, 2.8825, 2.885, 2.8875, 2.89, 2.8925, 2.895, 2.8975, 2.9, 2.9025, 2.905, 2.9075, 2.91, 2.9125, 2.915, 2.9175, 2.92, 2.9225, 2.925, 2.9275, 2.93, 2.9325, 2.935, 2.9375, 2.94, 2.9425, 2.945, 2.9475, 2.95, 2.9525, 2.955, 2.9575, 2.96, 2.9625, 2.965, 2.9675, 2.97, 2.9725, 2.975, 2.9775, 2.98, 2.9825, 2.985, 2.9875, 2.99, 2.9925, 2.995, 2.9975, 3.0, 3.0025, 3.005, 3.0075, 3.01, 3.0125, 3.015, 3.0175, 3.02, 3.0225, 3.025, 3.0275, 3.03, 3.0325, 3.035, 3.0375, 3.04, 3.0425, 3.045, 3.0475, 3.05, 3.0525, 3.055, 3.0575, 3.06, 3.0625, 3.065, 3.0675, 3.07, 3.0725, 3.075, 3.0775, 3.08, 3.0825, 3.085, 3.0875, 3.09, 3.0925, 3.095, 3.0975, 3.1, 3.1025, 3.105, 3.1075, 3.11, 3.1125, 3.115, 3.1175, 3.12, 3.1225, 3.125, 3.1275, 3.13, 3.1325, 3.135, 3.1375, 3.14, 3.1425, 3.145, 3.1475, 3.15, 3.1525, 3.155, 3.1575, 3.16, 3.1625, 3.165, 3.1675, 3.17, 3.1725, 3.175, 3.1775, 3.18, 3.1825, 3.185, 3.1875, 3.19, 3.1925, 3.195, 3.1975, 3.2, 3.2025, 3.205, 3.2075, 3.21, 3.2125, 3.215, 3.2175, 3.22, 3.2225, 3.225, 3.2275, 3.23, 3.2325, 3.235, 3.2375, 3.24, 3.2425, 3.245, 3.2475, 3.25, 3.2525, 3.255, 3.2575, 3.26, 3.2625, 3.265, 3.2675, 3.27, 3.2725, 3.275, 3.2775, 3.28, 3.2825, 3.285, 3.2875, 3.29, 3.2925, 3.295, 3.2975, 3.3, 3.3025, 3.305, 3.3075, 3.31, 3.3125, 3.315, 3.3175, 3.32, 3.3225, 3.325, 3.3275, 3.33, 3.3325, 3.335, 3.3375, 3.34, 3.3425, 3.345, 3.3475, 3.35, 3.3525, 3.355, 3.3575, 3.36, 3.3625, 3.365, 3.3675, 3.37, 3.3725, 3.375, 3.3775, 3.38, 3.3825, 3.385, 3.3875, 3.39, 3.3925, 3.395, 3.3975, 3.4, 3.4025, 3.405, 3.4075, 3.41, 3.4125, 3.415, 3.4175, 3.42, 3.4225, 3.425, 3.4275, 3.43, 3.4325, 3.435, 3.4375, 3.44, 3.4425, 3.445, 3.4475, 3.45, 3.4525, 3.455, 3.4575, 3.46, 3.4625, 3.465, 3.4675, 3.47, 3.4725, 3.475, 3.4775, 3.48, 3.4825, 3.485, 3.4875, 3.49, 3.4925, 3.495, 3.4975, 3.5, 3.5025, 3.505, 3.5075, 3.51, 3.5125, 3.515, 3.5175, 3.52, 3.5225, 3.525, 3.5275, 3.53, 3.5325, 3.535, 3.5375, 3.54, 3.5425, 3.545, 3.5475, 3.55, 3.5525, 3.555, 3.5575, 3.56, 3.5625, 3.565, 3.5675, 3.57, 3.5725, 3.575, 3.5775, 3.58, 3.5825, 3.585, 3.5875, 3.59, 3.5925, 3.595, 3.5975\n",
      "\n",
      "Valores de ρ_c: 1e+17, 4e+17, 7e+17, 9.999999999999999e+17, 1.3e+18, 1.6e+18, 1.9e+18, 2.2000000000000003e+18, 2.5e+18\n",
      "\n",
      "Valores de ϰ: 0.0, 0.1, 0.2, 0.3, 0.4, 0.5, 0.6, 0.7, 0.8, 0.9\n",
      "\n",
      "Número de modelos:  129600\n"
     ]
    }
   ],
   "source": [
    "Lista_C = np.round(np.arange(0,3.6,0.0025),4)\n",
    "print('Valores de C: ',end='')\n",
    "print(*Lista_C, sep=', ')\n",
    "\n",
    "Lista_rho_c = np.linspace(0.1,2.5,9)\n",
    "Lista_rho_c = [i*10**18 for i in Lista_rho_c]\n",
    "print('\\nValores de \\u03c1_c: ',end='')\n",
    "print(*Lista_rho_c, sep=', ')\n",
    "\n",
    "Lista_varkappa = [0.0,0.1,0.2,0.3,0.4,0.5,0.6,0.7,0.8,0.9]\n",
    "print('\\nValores de \\u03f0: ',end='')\n",
    "print(*Lista_varkappa, sep=', ')\n",
    "\n",
    "# Número total de modelos evaluados\n",
    "Numero_de_modelos = len(Lista_C)*len(Lista_rho_c)*len(Lista_varkappa)\n",
    "print('\\nNúmero de modelos: ', Numero_de_modelos)"
   ]
  },
  {
   "cell_type": "code",
   "execution_count": 7,
   "id": "6e5f0236",
   "metadata": {},
   "outputs": [
    {
     "name": "stdout",
     "output_type": "stream",
     "text": [
      "Wall time: 21min 46s\n"
     ]
    }
   ],
   "source": [
    "%%time\n",
    "\n",
    "Z = []\n",
    "\n",
    "for i in range(len(Lista_C)):\n",
    "    \n",
    "    Z.append([])\n",
    "        \n",
    "    C = Lista_C[i]\n",
    "    \n",
    "    for j in range(len(Lista_rho_c)):\n",
    "                \n",
    "        rho_c = Lista_rho_c[j]\n",
    "        \n",
    "        for k in range(len(Lista_varkappa)):\n",
    "                        \n",
    "            varkappa = Lista_varkappa[k]\n",
    "    \n",
    "            M_odot = 2.08                     # Masa total en unidades de masa solar\n",
    "            R = (M_odot*Msol/4/np.pi/rho_c/(1/3 - (1-varkappa)/5))**(1/3) \n",
    "            rho_c_til = G*R**2*rho_c/c**2 \n",
    "            \n",
    "    \n",
    "            P0 = 0                 # Condición inicial para Ecuación de equilibrio hidrostático\n",
    "        \n",
    "            xmin = 10**-15   \n",
    "            xmax = 1\n",
    "            x_span = (xmax,xmin)   # Integración desde el borde (x=1) hacia el centro (x=0)\n",
    "        \n",
    "            soluciones = solve_ivp(EcEqHid,x_span,[P0],args=[rho_c_til,varkappa,C],method='RK45',max_step=1/50)\n",
    "        \n",
    "            P_til = soluciones.y[0]                                      # Presión radial adimensional\n",
    "            x = soluciones.t                                             # Radio adimensional\n",
    "            m_til = m_tilde(x,rho_c_til,varkappa)                        # Masa adimensional\n",
    "            rho_til = rho_tilde(x,rho_c_til,varkappa)                    # Densidad de energía adimensional\n",
    "            Delta_til = Delta_tilde(x,rho_c_til,varkappa,C)              # Anisotropía adimensional\n",
    "            Pt_til = Delta_til + P_til                                   # Presión tangencial adimensional\n",
    "            gradrho_til = np.gradient(rho_til,x)                         # Derivada de la densidad de energía adimensional\n",
    "            gradP_til = np.gradient(P_til,x)                             # Derivada de la presión radial adimensional\n",
    "            gradPt_til = np.gradient(Pt_til,x)                           # Derivada de la presión tangencial adimensional\n",
    "            vs2 = gradP_til/gradrho_til                                  # Velocidad del sonido radial al cuadrado\n",
    "            vst2 = gradPt_til/gradrho_til                                # Velocidad del sonido tangencial al cuadrado\n",
    "            gradgradrho_til = np.gradient(gradrho_til,x)                 # Derivada segunda de la densidad de energía adimensional\n",
    "            gradvs2 = np.gradient(vs2,x)                                 # Derivada de la velocidad del sonido radial al cuadrado\n",
    "        \n",
    "            ## Condición 1\n",
    "            C1 = 2*m_til/x\n",
    "            if any(C1 >= 1): \n",
    "                Z[i].append(int(0))\n",
    "                continue\n",
    "            else: pass\n",
    "        \n",
    "            ## Condición 2\n",
    "            C2A = rho_til\n",
    "            C2B = P_til\n",
    "            C2C = Pt_til\n",
    "            C2 = [C2A,C2B,C2C]\n",
    "            if any(C2[0] < 0) or any(C2[1] < 0) or any(C2[2] < 0): \n",
    "                Z[i].append(int(0))\n",
    "                continue\n",
    "            else: pass\n",
    "        \n",
    "            ## Condición 3\n",
    "            C3A = gradrho_til\n",
    "            C3B = gradP_til\n",
    "            C3C = gradPt_til\n",
    "            C3 = [C3A,C3B,C3C]\n",
    "            if any(C3[0] > 0) or any (C3[1] > 0) or any (C3[2] > 0): \n",
    "                Z[i].append(int(0))\n",
    "                continue\n",
    "            else: pass\n",
    "        \n",
    "            ## Condición 4\n",
    "            C4 = rho_til - P_til - 2*Pt_til\n",
    "            if any(C4 < 0): \n",
    "                Z[i].append(int(0))\n",
    "                continue\n",
    "            else: pass\n",
    "        \n",
    "            ## Condición 5\n",
    "            C5A = vs2             \n",
    "            C5B = vst2   \n",
    "            C5 = [C5A,C5B]\n",
    "            if any(C5[0] > 1) or any(C5[1] > 1): \n",
    "                Z[i].append(int(0))\n",
    "                continue\n",
    "            else: pass\n",
    "        \n",
    "            ## Condición 6\n",
    "            C6 = ((rho_til[1:] + P_til[1:])*vs2[1:]/P_til[1:])\n",
    "            if any(C6 < 4/3): \n",
    "                Z[i].append(int(0))\n",
    "                continue\n",
    "            else: pass\n",
    "        \n",
    "            ## Condición 7\n",
    "            #C7 = var_M_til\n",
    "        \n",
    "            ## Condición 8\n",
    "            C8rho = (m_til + 4*np.pi*x**3*P_til)/x/(x - 2*m_til)\n",
    "            C8P = ((m_til + 4*np.pi*x**3*(rho_til + 2*P_til))/x/(x - 2*m_til) + 2/x)*vs2\n",
    "            C8Pt = -(2/x)*vst2\n",
    "            C8m = ((rho_til + P_til)*(1 + 8*np.pi*x**2*P_til)/(x - 2*m_til)**2)*(4*np.pi*x**2*rho_til/gradrho_til)\n",
    "            C8dP = gradvs2 + vs2*gradgradrho_til/gradrho_til\n",
    "            C8T = C8rho+C8P+C8Pt+C8m+C8dP\n",
    "        \n",
    "            C8 = [C8T,C8rho,C8P,C8Pt,C8m,C8dP]\n",
    "            if any(np.diff(np.sign(C8[0][2:-1])) != 0): \n",
    "                Z[i].append(int(0))\n",
    "                continue\n",
    "            else: pass\n",
    "        \n",
    "            ## Condición 9\n",
    "            C9 = gradgradrho_til\n",
    "            \n",
    "            Z[i].append(int(9))\n",
    "            "
   ]
  },
  {
   "cell_type": "code",
   "execution_count": 8,
   "id": "13b2f5ac",
   "metadata": {},
   "outputs": [
    {
     "data": {
      "text/plain": [
       "22.8"
      ]
     },
     "execution_count": 8,
     "metadata": {},
     "output_type": "execute_result"
    }
   ],
   "source": [
    "NMAs_ = np.array([x.count(9) for x in Z])\n",
    "UltInd = np.min(np.where(NMAs_ == 0))+1\n",
    "ListaC = Lista_C[:UltInd]\n",
    "NMAs = NMAs_[:UltInd]\n",
    "NCmax = np.max(NMAs)\n",
    "C0 = ListaC[-1]\n",
    "Cmax = ListaC[np.min(np.where(NMAs == NCmax))]\n",
    "Area = integrate.cumtrapz(NMAs,ListaC,initial=NMAs[0])[-1]\n",
    "round(Area,2)"
   ]
  },
  {
   "cell_type": "code",
   "execution_count": 9,
   "id": "0e32c457",
   "metadata": {},
   "outputs": [
    {
     "name": "stdout",
     "output_type": "stream",
     "text": [
      "Stored 'NMA_CF' (list)\n"
     ]
    }
   ],
   "source": [
    "NMA_CF = []\n",
    "NMA_CF.extend([ListaC,NMAs,C0,Cmax,NCmax,Area])\n",
    "\n",
    "%store NMA_CF"
   ]
  },
  {
   "cell_type": "code",
   "execution_count": 10,
   "id": "50865a7a",
   "metadata": {},
   "outputs": [
    {
     "name": "stdout",
     "output_type": "stream",
     "text": [
      "Stored 'Z_CF' (list)\n"
     ]
    }
   ],
   "source": [
    "Z_CF = Z[:UltInd]\n",
    "%store Z_CF"
   ]
  },
  {
   "cell_type": "code",
   "execution_count": 11,
   "id": "0bdc98d5",
   "metadata": {},
   "outputs": [
    {
     "data": {
      "image/png": "[encoded data removed]",
      "text/plain": [
       "<Figure size 450x450 with 1 Axes>"
      ]
     },
     "metadata": {
      "needs_background": "light"
     },
     "output_type": "display_data"
    }
   ],
   "source": [
    "fig, ax1 = plt.subplots(nrows=1,ncols=1,figsize=(3,3),dpi=150)\n",
    "\n",
    "ax1.plot(ListaC,NMAs,linestyle='-',label=r'$\\textrm{9 condiciones}$')\n",
    "\n",
    "ax1.set_xbound(ListaC[0],ListaC[-1])\n",
    "ax1.set_ybound(0,max(NMAs)+0.05*max(NMAs))\n",
    "ax1.set_xlabel(r'$\\textrm{Factor de anisotropía}\\,\\left(C\\right)$',fontsize=10)\n",
    "ax1.set_ylabel(r'$\\textrm{Número de modelos aceptables}$',fontsize=10)\n",
    "ax1.set_title(r'$\\Delta_{CF}$',fontsize=16,x=0.5,y=1.01)\n",
    "\n",
    "plt.show()"
   ]
  },
  {
   "cell_type": "code",
   "execution_count": 12,
   "id": "e69e8d36",
   "metadata": {},
   "outputs": [
    {
     "data": {
      "image/png": "[encoded data removed]",
      "text/plain": [
       "<Figure size 450x450 with 1 Axes>"
      ]
     },
     "metadata": {
      "needs_background": "light"
     },
     "output_type": "display_data"
    }
   ],
   "source": [
    "fig, ax1 = plt.subplots(nrows=1,ncols=1,figsize=(3,3),dpi=150)\n",
    "\n",
    "ax1.plot(ListaC,NMAs,linestyle='-',label=r'$\\textrm{9 condiciones}$')\n",
    "ax1.scatter(ListaC,NMAs,marker='o',s=5)\n",
    "\n",
    "ax1.set_xbound(ListaC[0],ListaC[-1])\n",
    "ax1.set_ybound(0,max(NMAs)+0.05*max(NMAs))\n",
    "ax1.set_xlabel(r'$\\textrm{Factor de anisotropía}\\,\\left(C\\right)$',fontsize=10)\n",
    "ax1.set_ylabel(r'$\\textrm{Número de modelos aceptables}$',fontsize=10)\n",
    "\n",
    "ax1.set_title(r'$\\Delta_{CF}$',fontsize=16,x=0.5,y=1.01)\n",
    "\n",
    "plt.show()"
   ]
  },
  {
   "cell_type": "code",
   "execution_count": 13,
   "id": "1de468fa",
   "metadata": {},
   "outputs": [
    {
     "data": {
      "image/png": "[encoded data removed]",
      "text/plain": [
       "<Figure size 450x450 with 1 Axes>"
      ]
     },
     "metadata": {
      "needs_background": "light"
     },
     "output_type": "display_data"
    }
   ],
   "source": [
    "fig, ax1 = plt.subplots(nrows=1,ncols=1,figsize=(3,3),dpi=150)\n",
    "\n",
    "ax1.plot(ListaC/ListaC[-1],NMAs,linestyle='-',label=r'$\\textrm{9 condiciones}$')\n",
    "ax1.scatter(ListaC,NMAs,marker='o',s=0)\n",
    "\n",
    "ax1.set_xbound(ListaC[0]/ListaC[-1],ListaC[-1]/ListaC[-1])\n",
    "ax1.set_ybound(0,max(NMAs)+0.05*max(NMAs))\n",
    "ax1.set_xlabel(r'$\\textrm{Factor de anisotropía}\\,\\left(C\\right)$',fontsize=10)\n",
    "ax1.set_ylabel(r'$\\textrm{Número de modelos aceptables}$',fontsize=10)\n",
    "ax1.set_title(r'$\\Delta_{CF}$',fontsize=16,x=0.5,y=1.01)\n",
    "\n",
    "plt.show()"
   ]
  },
  {
   "cell_type": "code",
   "execution_count": null,
   "id": "8e8224b1",
   "metadata": {},
   "outputs": [],
   "source": []
  }
 ],
 "metadata": {
  "kernelspec": {
   "display_name": "Python 3 (ipykernel)",
   "language": "python",
   "name": "python3"
  },
  "language_info": {
   "codemirror_mode": {
    "name": "ipython",
    "version": 3
   },
   "file_extension": ".py",
   "mimetype": "text/x-python",
   "name": "python",
   "nbconvert_exporter": "python",
   "pygments_lexer": "ipython3",
   "version": "3.9.7"
  }
 },
 "nbformat": 4,
 "nbformat_minor": 5
}
